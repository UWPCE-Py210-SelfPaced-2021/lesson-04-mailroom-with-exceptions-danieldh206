{
 "cells": [
  {
   "cell_type": "code",
   "execution_count": 22,
   "id": "chicken-patio",
   "metadata": {},
   "outputs": [],
   "source": [
    "db_0 = [('William Gates', [653772.32, 12.17]),\n",
    "        ('Jeff Bezos', [877.33,708.42,3500.00]),\n",
    "        ('Paul Allen', [663.23, 5443.87, 10123.32]),\n",
    "        ('Mark Zuckerberg', [1663.23, 4300.87, 10432.0]),\n",
    "        ]"
   ]
  },
  {
   "cell_type": "code",
   "execution_count": 38,
   "id": "impressive-union",
   "metadata": {},
   "outputs": [],
   "source": [
    "db_1 = [('William Gates', [653772.32, 12.17]),\n",
    "        ('Jeff Bezos', [877.33,708.42,3500.00]),\n",
    "        ('Paul Allen', [663.23, 5443.87, 10123.32]),\n",
    "        ('Mark Zuckerberg', [1663.23, 4300.87, 10432.0]),\n",
    "        ]"
   ]
  },
  {
   "cell_type": "code",
   "execution_count": null,
   "id": "recovered-agency",
   "metadata": {},
   "outputs": [],
   "source": []
  },
  {
   "cell_type": "code",
   "execution_count": 24,
   "id": "higher-taxation",
   "metadata": {},
   "outputs": [],
   "source": [
    "report_rows_double = []\n",
    "for (name, gifts) in db_0:\n",
    "    total_gifts = sum(gifts)\n",
    "    num_gifts = len(gifts)\n",
    "    avg_gift = total_gifts / num_gifts\n",
    "    report_rows_double.append((name, total_gifts, num_gifts, avg_gift))"
   ]
  },
  {
   "cell_type": "code",
   "execution_count": 25,
   "id": "stylish-klein",
   "metadata": {},
   "outputs": [
    {
     "data": {
      "text/plain": [
       "[('William Gates', 653784.49, 2, 326892.245),\n",
       " ('Jeff Bezos', 5085.75, 3, 1695.25),\n",
       " ('Paul Allen', 16230.42, 3, 5410.14),\n",
       " ('Mark Zuckerberg', 16396.1, 3, 5465.366666666666)]"
      ]
     },
     "execution_count": 25,
     "metadata": {},
     "output_type": "execute_result"
    }
   ],
   "source": [
    "report_rows_double"
   ]
  },
  {
   "cell_type": "code",
   "execution_count": 43,
   "id": "employed-apparatus",
   "metadata": {},
   "outputs": [
    {
     "data": {
      "text/plain": [
       "[('William Gates', 653784.49, 2, 326892.245),\n",
       " ('Jeff Bezos', 5085.75, 3, 1695.25),\n",
       " ('Paul Allen', 16230.42, 3, 5410.14),\n",
       " ('Mark Zuckerberg', 16396.1, 3, 5465.366666666666)]"
      ]
     },
     "execution_count": 43,
     "metadata": {},
     "output_type": "execute_result"
    }
   ],
   "source": [
    "report_rows_single"
   ]
  },
  {
   "cell_type": "code",
   "execution_count": 48,
   "id": "heavy-harris",
   "metadata": {},
   "outputs": [],
   "source": [
    "report_rows_f_string = []\n",
    "for (name, gifts) in db_1:\n",
    "    total_gifts = sum(gifts)\n",
    "    num_gifts = len(gifts)\n",
    "    avg_gift = total_gifts / num_gifts\n",
    "    report_rows_f_string.append((f'{name:25s}{total_gifts:14.2f}{num_gifts:9d}{avg_gift:14.2f}'))"
   ]
  },
  {
   "cell_type": "code",
   "execution_count": 49,
   "id": "detected-equation",
   "metadata": {},
   "outputs": [
    {
     "data": {
      "text/plain": [
       "['William Gates                 653784.49        2     326892.24',\n",
       " 'Jeff Bezos                      5085.75        3       1695.25',\n",
       " 'Paul Allen                     16230.42        3       5410.14',\n",
       " 'Mark Zuckerberg                16396.10        3       5465.37']"
      ]
     },
     "execution_count": 49,
     "metadata": {},
     "output_type": "execute_result"
    }
   ],
   "source": [
    " report_rows_f_string"
   ]
  },
  {
   "cell_type": "code",
   "execution_count": 57,
   "id": "noticed-narrative",
   "metadata": {},
   "outputs": [],
   "source": [
    "report_rows_format = []\n",
    "for (name, gifts) in db_1:\n",
    "    total_gifts = sum(gifts)\n",
    "    num_gifts = len(gifts)\n",
    "    avg_gift = total_gifts / num_gifts\n",
    "    report_rows_format.append(('{:25s}{:14.2f}{:9d}{:14.2f}'.format(name,total_gifts,num_gifts,avg_gift)))"
   ]
  },
  {
   "cell_type": "code",
   "execution_count": 58,
   "id": "collaborative-lithuania",
   "metadata": {},
   "outputs": [
    {
     "data": {
      "text/plain": [
       "['William Gates                 653784.49        2     326892.24',\n",
       " 'Jeff Bezos                      5085.75        3       1695.25',\n",
       " 'Paul Allen                     16230.42        3       5410.14',\n",
       " 'Mark Zuckerberg                16396.10        3       5465.37']"
      ]
     },
     "execution_count": 58,
     "metadata": {},
     "output_type": "execute_result"
    }
   ],
   "source": [
    "report_rows_format"
   ]
  },
  {
   "cell_type": "code",
   "execution_count": null,
   "id": "delayed-north",
   "metadata": {},
   "outputs": [],
   "source": []
  },
  {
   "cell_type": "code",
   "execution_count": null,
   "id": "deluxe-emerald",
   "metadata": {},
   "outputs": [],
   "source": []
  },
  {
   "cell_type": "code",
   "execution_count": null,
   "id": "divine-disney",
   "metadata": {},
   "outputs": [],
   "source": []
  },
  {
   "cell_type": "code",
   "execution_count": null,
   "id": "distinct-preservation",
   "metadata": {},
   "outputs": [],
   "source": []
  },
  {
   "cell_type": "code",
   "execution_count": null,
   "id": "liberal-holocaust",
   "metadata": {},
   "outputs": [],
   "source": []
  }
 ],
 "metadata": {
  "kernelspec": {
   "display_name": "Python 3",
   "language": "python",
   "name": "python3"
  },
  "language_info": {
   "codemirror_mode": {
    "name": "ipython",
    "version": 3
   },
   "file_extension": ".py",
   "mimetype": "text/x-python",
   "name": "python",
   "nbconvert_exporter": "python",
   "pygments_lexer": "ipython3",
   "version": "3.8.2"
  }
 },
 "nbformat": 4,
 "nbformat_minor": 5
}
